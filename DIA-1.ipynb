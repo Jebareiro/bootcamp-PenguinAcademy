{
 "cells": [
  {
   "cell_type": "code",
   "execution_count": 3,
   "id": "165b2dfc",
   "metadata": {},
   "outputs": [
    {
     "name": "stdout",
     "output_type": "stream",
     "text": [
      "Hola Mundo\n"
     ]
    }
   ],
   "source": [
    "# Python\n",
    "# Es un lenguaje de programación de sintaxis sencilla,\n",
    "# amigable y trata de parecerse en lo mayor posible al lenguaje humano.\n",
    "# Como está escrito en inglés, es más parecido a ese idioma.\n",
    "\n",
    "print(\"Hola Mundo\");"
   ]
  },
  {
   "cell_type": "code",
   "execution_count": 4,
   "id": "a26a599a",
   "metadata": {},
   "outputs": [
    {
     "name": "stdout",
     "output_type": "stream",
     "text": [
      "Jessica\n",
      "Bareiro\n"
     ]
    }
   ],
   "source": [
    "# Variable\n",
    "# Las variables son espacios en memoria de la computadora \n",
    "# en los cuales podemos guardar datos durante la ejecución de nuestro programa.\n",
    "\n",
    "nombre = \"Jessica\";\n",
    "apellido = \"Bareiro\";\n",
    "\n",
    "print(nombre);\n",
    "print(apellido);"
   ]
  },
  {
   "cell_type": "code",
   "execution_count": 6,
   "id": "73d0b117",
   "metadata": {},
   "outputs": [
    {
     "name": "stdout",
     "output_type": "stream",
     "text": [
      "manzana\n",
      "5\n",
      "naranja\n"
     ]
    }
   ],
   "source": [
    "frutas = \"manzana\";\n",
    "print(frutas);\n",
    "cantidad_de_frutas = 5;\n",
    "print(cantidad_de_frutas);\n",
    "frutas = \"naranja\";\n",
    "print(frutas);"
   ]
  },
  {
   "cell_type": "code",
   "execution_count": 7,
   "id": "8fc77bc3",
   "metadata": {},
   "outputs": [
    {
     "name": "stdout",
     "output_type": "stream",
     "text": [
      "naranja\n",
      "naranja, pera\n"
     ]
    }
   ],
   "source": [
    "print(frutas);\n",
    "frutas = \"naranja, pera\";\n",
    "print(frutas);"
   ]
  },
  {
   "cell_type": "code",
   "execution_count": null,
   "id": "bf08dba4",
   "metadata": {},
   "outputs": [
    {
     "name": "stdout",
     "output_type": "stream",
     "text": [
      "Jessica\n"
     ]
    }
   ],
   "source": [
    "# Tipo de datos\n",
    "# int - integer - 112 (numeros enteros)\n",
    "# float - floating - 1.2 (numeros decimales)\n",
    "# str - string - \"Jessica Bareiro\" (cadena de texto)\n",
    "# bool - boolean - TRUE - FALSE\n",
    "\n",
    "numero_int = 1234;\n",
    "numero_float = 1.2;\n",
    "nombre_string = \"Jessica\";\n",
    "cajon_abierto = False; \n",
    "# para BOOLEAN  -  True o False la primera letra \n",
    "# siempre debe ir en mayuscula\n",
    "\n",
    "\n",
    "print(nombre);"
   ]
  },
  {
   "cell_type": "code",
   "execution_count": null,
   "id": "b4ffd763",
   "metadata": {},
   "outputs": [
    {
     "name": "stdout",
     "output_type": "stream",
     "text": [
      "35000\n",
      "30000\n",
      "76000\n",
      "5066\n"
     ]
    }
   ],
   "source": [
    "# Operaciones aritméticas\n",
    "# Python lee la cuenta de izquierda a derecha, \n",
    "# y sigue reglas de precedencia, como en matemáticas\n",
    "# SUMA + \n",
    "# RESTA - \n",
    "# DIVISION / \n",
    "# MULTIPLICACION * \n",
    "# DIVISION ENTERA //\n",
    "#-----------------------------------\n",
    "\n",
    "#SUMA\n",
    "precio_total = 15000 + 20000;\n",
    "print(precio_total);\n",
    "\n",
    "#RESTA\n",
    "precio_descuento = precio_total - 5000;\n",
    "print(precio_descuento);\n",
    "\n",
    "#MULTIPLICACION\n",
    "precio_gaseosa = 19000;\n",
    "cantidad_gaseosa = 4;\n",
    "cantidad_personas = 15;\n",
    "precio_final = precio_gaseosa * cantidad_gaseosa;\n",
    "print(precio_final);\n",
    "\n",
    "#DIVISION\n",
    "promedio_por_personas = precio_final // cantidad_personas;\n",
    "print(promedio_por_personas);"
   ]
  },
  {
   "cell_type": "code",
   "execution_count": 20,
   "id": "6cf36b4f",
   "metadata": {},
   "outputs": [
    {
     "name": "stdout",
     "output_type": "stream",
     "text": [
      "100\n",
      "80\n"
     ]
    }
   ],
   "source": [
    "# Challenge 🤺 - 20m\n",
    "# Suma: asignar dos números en dos variables diferentes \n",
    "# cantidad_de_manzanas y cantidad_de_naranjas. \n",
    "# Luego sumar ambas variables en cantidad_de_frutas. \n",
    "# Imprimir la última variable.\n",
    "\n",
    "cantidad_de_manzanas = 50;\n",
    "cantidad_de_naranjas = 50;\n",
    "cantidades_de_frutas = cantidad_de_manzanas + cantidad_de_naranjas;\n",
    "print(cantidades_de_frutas);\n",
    "\n",
    "# Resta: asignar un valor numérico a la variable frutas_vendidas. \n",
    "# Luego, asignar la resta entre cantidad_de_frutas y frutas_vendidas \n",
    "# a la variable frutas_restantes. Imprimir la última variable.\n",
    "\n",
    "frutas_vendidas = 20;\n",
    "frutas_restantes = cantidades_de_frutas - frutas_vendidas;\n",
    "print(frutas_restantes);"
   ]
  },
  {
   "cell_type": "code",
   "execution_count": 23,
   "id": "e69427aa",
   "metadata": {},
   "outputs": [
    {
     "name": "stdout",
     "output_type": "stream",
     "text": [
      "Jessica Bareiro\n",
      "Jessica Bareiro\n",
      "Hola, mi nombre es: Jessica Bareiro\n",
      "Hola, mi nombre es: JessicaBareiro\n",
      "Hola, mi nombre es: Jessica Bareiro\n"
     ]
    }
   ],
   "source": [
    "nombre = \"Jessica\";\n",
    "apellido = \"Bareiro\";\n",
    "\n",
    "nombre_completo = nombre + \" \" + apellido;\n",
    "print(nombre_completo);\n",
    "\n",
    "print(nombre + \" \" + apellido);\n",
    "print(\"Hola, mi nombre es:\" + \" \" + nombre + \" \" + apellido);\n",
    "print(f\"Hola, mi nombre es: {nombre}{apellido}\");\n",
    "print(\"Hola, mi nombre es:\", nombre_completo);\n"
   ]
  },
  {
   "cell_type": "code",
   "execution_count": null,
   "id": "2ea3053a",
   "metadata": {},
   "outputs": [
    {
     "name": "stdout",
     "output_type": "stream",
     "text": [
      "Hola, Me llamo Ovidio Elizalde\n",
      "Hola, Me llamo Ovidio Elizalde. Mucho Gusto\n"
     ]
    }
   ],
   "source": [
    "# Challenge 🤺 - 10m\n",
    "# Asignar el nombre y el apellido de tu compañera/o\n",
    "# a las variables nombre y apellido. \n",
    "# Luego, imprimir una frase, utilizando las variables. \n",
    "# EJEMPLO: \"Hola. Me llamo Claudia Melgarejo. Mucho gusto.\"\n",
    "\n",
    "nombre = 'Ovidio';\n",
    "apellido = 'Elizalde';\n",
    "\n",
    "nombre_completos = nombre + ' ' + apellido;\n",
    "print('Hola, Me llamo', nombre_completos);\n",
    "\n",
    "print(f'Hola, Me llamo {nombre} {apellido}. Mucho Gusto');"
   ]
  },
  {
   "cell_type": "code",
   "execution_count": null,
   "id": "fe41f19c",
   "metadata": {},
   "outputs": [
    {
     "name": "stdout",
     "output_type": "stream",
     "text": [
      "jessica\n",
      "4\n"
     ]
    }
   ],
   "source": [
    "#INPUT: sirve para pedirle datos al usuario\n",
    "# mientras el programa se está ejecutando.\n",
    "\n",
    "name = input(\"Cual es tu nombre?\");\n",
    "print(name);\n",
    "\n",
    "numero1 = int(input(\"Dame un Numero\"));\n",
    "numero2 = (input(\"Dame otro Numero\"));\n",
    "\n",
    "sumas = numero1 + int(numero2);\n",
    "print(sumas);\n",
    "\n",
    "#print(type(numero1))\n"
   ]
  },
  {
   "cell_type": "code",
   "execution_count": 27,
   "id": "6f7c2719",
   "metadata": {},
   "outputs": [
    {
     "name": "stdout",
     "output_type": "stream",
     "text": [
      "8\n"
     ]
    }
   ],
   "source": [
    "# Challenge 🤺 - 10m\n",
    "# Solicitar al usuario ingresar dos números \n",
    "# y almacenarlos en dos variables. \n",
    "# Luego, imprimir la suma de los dos números.\n",
    "\n",
    "# Challenge  3🤺 - 10m\n",
    "# Solicitar al usuario ingresar dos números y almacenarlos en dos variables. Luego, imprimir la suma de los dos números.\n",
    "\n",
    "numero_uno = int(input('Dame un numero:'))\n",
    "numero_dos = int(input('Dame otro numero: '))\n",
    "\n",
    "summa = numero_uno + numero_dos\n",
    "print(summa); "
   ]
  },
  {
   "cell_type": "code",
   "execution_count": 29,
   "id": "437489f0",
   "metadata": {},
   "outputs": [
    {
     "name": "stdout",
     "output_type": "stream",
     "text": [
      "Abrir el pan\n",
      "agregar jamon\n",
      "Agregar queso\n",
      "Cerrar pan\n",
      "Listo!\n"
     ]
    }
   ],
   "source": [
    "#FUNCIONES : es un bloque de código que hacés una vez y podés usar muchas veces. \n",
    "# Sirve para organizar, reutilizar y simplificar tu programa.\n",
    "\n",
    "def preparar_sandwich():\n",
    "    print('Abrir el pan');\n",
    "    print('agregar jamon');\n",
    "    print('Agregar queso');\n",
    "    print('Cerrar pan');\n",
    "    print('Listo!');\n",
    "\n",
    "preparar_sandwich();\n",
    "    "
   ]
  },
  {
   "cell_type": "code",
   "execution_count": null,
   "id": "608f8199",
   "metadata": {},
   "outputs": [],
   "source": [
    "# Challenge 🤺 - 10m\n",
    "# Crear una función de un proceso que se les ocurra \n",
    "# que tenga varios pasos. \n",
    "# Ejecutar la función 3 veces.\n",
    "\n",
    "def lavado_de_manos():\n",
    "    print('Mójate las manos')\n",
    "    print('Aplica jabón')\n",
    "    print('Frota las manos')\n",
    "    print('Enjuaga')\n",
    "    print('Sécate')\n",
    "    print(' ')\n",
    "    \n",
    "lavado_de_manos()\n",
    "lavado_de_manos()\n",
    "lavado_de_manos()"
   ]
  },
  {
   "cell_type": "markdown",
   "id": "827b01e5",
   "metadata": {},
   "source": [
    "INDENTACION = es el espacio al inicio de una línea que indica qué instrucciones están dentro de qué bloque"
   ]
  },
  {
   "cell_type": "code",
   "execution_count": null,
   "id": "a343c98f",
   "metadata": {},
   "outputs": [],
   "source": [
    "# Parámetros: son los nombres que usás al definir la función.\n",
    "# Argumentos: son los valores que pasás al llamar la función.\n",
    "\n",
    "def saludar(nombre): # ➡️ 'nombre' es un PARÁMETRO\n",
    "print(\"Hola\", nombre)\n",
    "saludar(\"Jessica\") # ➡️ \"Jessica\" es un ARGUMENTO\n",
    "\n",
    "\n",
    "# Un argumento nunca \"se convierte\" en un parámetro, \n",
    "# pero cuando pasás un argumento al llamar una función, \n",
    "# ese valor se copia dentro del parámetro.\n",
    "\n",
    "def cuadrado(x):   # 'x' es un parámetro\n",
    "    print(x * x)\n",
    "\n",
    "cuadrado(5)        # 5 es un argumento"
   ]
  },
  {
   "cell_type": "code",
   "execution_count": 34,
   "id": "8bfb60c0",
   "metadata": {},
   "outputs": [
    {
     "name": "stdout",
     "output_type": "stream",
     "text": [
      "Abrir el pan\n",
      "agregar : huevo\n",
      "Cerrar pan\n",
      "Listo!\n",
      "\n",
      "Abrir el pan\n",
      "agregar : tomate y lechuga\n",
      "Cerrar pan\n",
      "Listo!\n"
     ]
    }
   ],
   "source": [
    "def preparar_sandwich(ingrediente):\n",
    "    print('Abrir el pan');\n",
    "    print(f'agregar {ingrediente}');\n",
    "    print('Cerrar pan');\n",
    "    print('Listo!');\n",
    "\n",
    "preparar_sandwich(': huevo');\n",
    "print(\"\")\n",
    "preparar_sandwich(': tomate y lechuga');"
   ]
  },
  {
   "cell_type": "code",
   "execution_count": 35,
   "id": "6fc89cc3",
   "metadata": {},
   "outputs": [
    {
     "name": "stdout",
     "output_type": "stream",
     "text": [
      "Marca: Zara\n",
      "Talle: P\n",
      "Color: Rojo\n",
      "Tipo: Camisilla\n",
      "\n",
      "Marca: Zara\n",
      "Talle: P\n",
      "Color: Blanco\n",
      "Tipo: Camisilla\n",
      "\n",
      "Quiero comprar una remera Talle: P, Color:Rojo, Marca: Bershka\n",
      "Quiero comprar una remera Talle: M, Color Blanco, Marca: Forever 21\n"
     ]
    }
   ],
   "source": [
    "# Challenge 5🤺 - 15m\n",
    "# Escribir una funcion que nos pregunte las caracteriticas de un elemento a comprar\n",
    "# e imprima el elemento con sus caracteristicas.\n",
    "\n",
    "def ropa_femenina(caracteristicas):\n",
    "    print('Marca: Zara');\n",
    "    print('Talle: P');\n",
    "    print(f'Color: {caracteristicas}');\n",
    "    print('Tipo: Camisilla');\n",
    "    print('');\n",
    "\n",
    "ropa_femenina('Rojo');\n",
    "ropa_femenina('Blanco');\n",
    "\n",
    "\n",
    "\n",
    "def remera(caracteristica):\n",
    "    print(f'Quiero comprar una remera {caracteristica}');\n",
    "\n",
    "remera('Talle: P, Color:Rojo, Marca: Bershka');\n",
    "remera('Talle: M, Color Blanco, Marca: Forever 21');\n"
   ]
  },
  {
   "cell_type": "code",
   "execution_count": null,
   "id": "e8b0fb6f",
   "metadata": {},
   "outputs": [],
   "source": [
    "#EJERCICIO LUIS - DISCORD\n",
    "#Creo una funcion con tres caracteristicas para un plan de salud define_tu_plan\n",
    "\n",
    "def define_tu_plan(cantidad_de_personas, ciudad, precio):\n",
    "    print(f'plan para: {cantidad_de_personas} personas')\n",
    "    print(f'que viven en: {ciudad}')\n",
    "    print(f'quiero invertir: {precio} en mi salud')\n",
    "\n",
    "#Doy mensaje previo a las caracteristicas\n",
    "print('entonces \"tu Plan Ideal\" tendra las siguientes caracteristicas')\n",
    "\n",
    "#Llamo a la funcion para confirmar las caracteristicas\n",
    "define_tu_plan(2, 'Asuncion', 'Gs. 500000')\n",
    "\n",
    "#Despedida\n",
    "print ('Gracias por responder, en breve te enviaremos la mejor opcion para vos')\n",
    "\n",
    "define_tu_plan(4, 'Asuncion', 'Gs. 700000')"
   ]
  },
  {
   "cell_type": "code",
   "execution_count": null,
   "id": "8673fc7f",
   "metadata": {},
   "outputs": [],
   "source": [
    "#VARIABLES \n",
    "\n",
    "# 🔸 Alcance local: la variable vive dentro \n",
    "# de una función y solo se puede usar ahí.\n",
    "\n",
    "def preparar_comida():\n",
    "    ingrediente = 'Carne'\n",
    "    print(f'Estoy cocinando {ingrediente}');\n",
    "    \n",
    "preparar_comida();"
   ]
  },
  {
   "cell_type": "code",
   "execution_count": null,
   "id": "b669f135",
   "metadata": {},
   "outputs": [],
   "source": [
    "# 🔹 Alcance global: la variable vive fuera\n",
    "#  de todas las funciones y se puede usar en todo el programa.\n",
    "ingrediente = 'Pollo'\n",
    "print(ingrediente);"
   ]
  }
 ],
 "metadata": {
  "kernelspec": {
   "display_name": "Python 3",
   "language": "python",
   "name": "python3"
  },
  "language_info": {
   "codemirror_mode": {
    "name": "ipython",
    "version": 3
   },
   "file_extension": ".py",
   "mimetype": "text/x-python",
   "name": "python",
   "nbconvert_exporter": "python",
   "pygments_lexer": "ipython3",
   "version": "3.12.6"
  }
 },
 "nbformat": 4,
 "nbformat_minor": 5
}
