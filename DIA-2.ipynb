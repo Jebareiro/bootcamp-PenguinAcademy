{
 "cells": [
  {
   "cell_type": "code",
   "execution_count": 21,
   "id": "46de992d",
   "metadata": {},
   "outputs": [
    {
     "name": "stdout",
     "output_type": "stream",
     "text": [
      "Buen Dia Carlos\n",
      "Buen Dia usuario\n",
      "Hola Laura\n",
      "Buen Dia True\n"
     ]
    }
   ],
   "source": [
    "def saludo_bienvenida(x):\n",
    "    print(f\"Buen Dia {x}\");\n",
    "\n",
    "#----------------------------\n",
    "\n",
    "saludo_bienvenida(\"Carlos\");\n",
    "\n",
    "#-----------------------------\n",
    "saludo_bienvenida(\"usuario\");\n",
    "def saludo (nombre):\n",
    "    print(\"Hola\", nombre);\n",
    "\n",
    "saludo(\"Laura\");\n",
    "\n",
    "#-----------------------------\n",
    "\n",
    "usuario = input(\"Ingrese su nombre\");\n",
    "saludo_bienvenida(True);"
   ]
  },
  {
   "cell_type": "code",
   "execution_count": 23,
   "id": "5b8f69d0",
   "metadata": {},
   "outputs": [
    {
     "name": "stdout",
     "output_type": "stream",
     "text": [
      "Es mayor, podes ingresar\n"
     ]
    }
   ],
   "source": [
    "# Condicionales en programación son instrucciones \n",
    "# que permiten tomar decisiones: \n",
    "# ejecutar algo solo si se cumple cierta condición.\n",
    "#------------------------------------------\n",
    "\n",
    "# ♦️ Operadores de comparación\n",
    "# Mayor >\n",
    "# Menor <\n",
    "# Mayor o igual >=\n",
    "# Menor o igual <=\n",
    "# Es igual ==\n",
    "# Diferente !=\n",
    "#------------------------------------------\n",
    "\n",
    "# 🧩 Palabras claves\n",
    "# if (si)\n",
    "# elif (sino si)\n",
    "# else (sino)\n",
    "\n",
    "edad = 18\n",
    "\n",
    "if edad < 18:\n",
    "    print(\"Es menor, no podes ingresar\");\n",
    "else:\n",
    "    print(\"Es mayor, podes ingresar\");"
   ]
  },
  {
   "cell_type": "code",
   "execution_count": 24,
   "id": "2b3099f3",
   "metadata": {},
   "outputs": [
    {
     "name": "stdout",
     "output_type": "stream",
     "text": [
      "Trabajor\n"
     ]
    }
   ],
   "source": [
    "edad_individuo = 56\n",
    "\n",
    "if edad_individuo < 18:\n",
    "    print(\"Estudiante\");\n",
    "elif edad_individuo > 56:\n",
    "    print(\"Jubilado\");\n",
    "else:\n",
    "    print(\"Trabajor\");"
   ]
  },
  {
   "cell_type": "code",
   "execution_count": 29,
   "id": "328d56ba",
   "metadata": {},
   "outputs": [
    {
     "name": "stdout",
     "output_type": "stream",
     "text": [
      "Hace lo que quieras\n"
     ]
    }
   ],
   "source": [
    "# Challenge🤺 - 20m\n",
    "# Escribe un programa que pregunte al usuario por su edad \n",
    "# y determine si tiene edad suficiente para comprar y consumir alcohol.\n",
    "\n",
    "# Si el usuario tiene mas de 18 pero menos de 21 impirmir \"Podes tomar pero no comprar\"\n",
    "# Si el usuario tiene menos de 18 imprimir \"Juguito nomas\"\n",
    "# Si el usuario tiene mas de 21 imprimir \"Hace lo que quieras\"\n",
    "\n",
    "edad_para_beber = int(input(\"Cual es tu edad?\"));\n",
    "if edad_para_beber < 18:\n",
    "    print(\"Jueguito nomas\");\n",
    "elif edad_para_beber <= 21:\n",
    "    print(\"Podes tomar pero no comprar\");\n",
    "else:\n",
    "    print(\"Hace lo que quieras\");"
   ]
  },
  {
   "cell_type": "code",
   "execution_count": 30,
   "id": "1ac738eb",
   "metadata": {},
   "outputs": [
    {
     "name": "stdout",
     "output_type": "stream",
     "text": [
      "Jubildado\n"
     ]
    }
   ],
   "source": [
    "# Operadores Lógicos\n",
    "# and(y) - Se cumple solo si ambas condiciones son verdaderas.\n",
    "# or (o) - Se cumple si al menos una de las condiciones es verdadera.\n",
    "# not (no) - Niega la condición: si es verdadera, la convierte en falsa, y al revés.\n",
    "\n",
    "edad_persona = 65;\n",
    "trabaja = False;\n",
    "\n",
    "if edad_persona < 18:\n",
    "    print(\"Estudiante\");\n",
    "elif edad_persona < 65 and trabaja == True:\n",
    "    print(\"Activa Laboralmente\");\n",
    "elif edad_persona < 65 and trabaja == False:\n",
    "    print(\"Desempleado\");\n",
    "else:\n",
    "    print(\"Jubildado\");"
   ]
  },
  {
   "cell_type": "code",
   "execution_count": 31,
   "id": "1d6a4426",
   "metadata": {},
   "outputs": [
    {
     "name": "stdout",
     "output_type": "stream",
     "text": [
      "Desempleado\n"
     ]
    }
   ],
   "source": [
    "def chequear_edad(edad_laboral, trabaja):\n",
    "    if edad_laboral < 18:\n",
    "        print(\"Estudiante\");\n",
    "    elif edad_laboral < 65 and trabaja == True:\n",
    "        print(\"Activo laboralmente\");\n",
    "    elif edad_laboral < 65 and trabaja == False:\n",
    "        print(\"Desempleado\");\n",
    "    else:\n",
    "        print(\"Jubilado\");\n",
    "\n",
    "chequear_edad(30, False);"
   ]
  },
  {
   "cell_type": "code",
   "execution_count": 35,
   "id": "0439fec4",
   "metadata": {},
   "outputs": [
    {
     "name": "stdout",
     "output_type": "stream",
     "text": [
      "La temperatura actual es 60 grados celcius\n",
      "Nanamo mba'e\n"
     ]
    }
   ],
   "source": [
    "# Challenge 🤺 - 30m\n",
    "# Escribir un programa en el que se pregunte al usuario por una temperatura (en grados Celsius), imprima la temperatura escrita, y luego clasificar la temperatura ingresada en los siguientes niveles:\n",
    "\n",
    "# Entre -10 y 18 grados, que imprima \"Fresquete\".\n",
    "# Entre 19 y 30 grados, que imprima \"Calor'i\".\n",
    "# Entre 31 y 45 grados, que imprima \"Hakuuuuuu\".\n",
    "# Para todo lo demás, imprimir \"Ñamano mba'e!\".\n",
    "\n",
    "temperatura = int(input(\"Cual es la temperatura actual?: \"))\n",
    "print(f\"La temperatura actual es {temperatura} grados celcius\")\n",
    "\n",
    "if temperatura >= -10 and temperatura <= 18:\n",
    "    print(\"Hace Fresquete\");\n",
    "elif temperatura >= 19 and temperatura <= 30:\n",
    "    print(\"Calor'i\");\n",
    "elif temperatura >= 31 and temperatura <= 45:\n",
    "    print(\"Hakuuuu\");\n",
    "else:\n",
    "    print(\"Nanamo mba'e\");"
   ]
  },
  {
   "cell_type": "code",
   "execution_count": 36,
   "id": "2235f5d3",
   "metadata": {},
   "outputs": [
    {
     "name": "stdout",
     "output_type": "stream",
     "text": [
      "3\n",
      "5\n",
      "6\n",
      "7\n",
      "8\n",
      "9\n",
      "20\n",
      "10\n",
      "numero correcto\n",
      "10\n"
     ]
    }
   ],
   "source": [
    "# while sirve para repetir algo mientras una condición sea verdadera.\n",
    "\n",
    "numero_a_adivinar = 10;\n",
    "numero = 3;\n",
    "\n",
    "while numero != numero_a_adivinar:\n",
    "    numero = int(input(\"Introduce un numero\"))\n",
    "    print(numero);\n",
    "\n",
    "print(\"numero correcto\");\n",
    "print(numero);\n"
   ]
  },
  {
   "cell_type": "code",
   "execution_count": 41,
   "id": "4faf3c13",
   "metadata": {},
   "outputs": [
    {
     "name": "stdout",
     "output_type": "stream",
     "text": [
      "Numero Incorrecto\n",
      "El numero es correcto\n"
     ]
    }
   ],
   "source": [
    "number = 10\n",
    "\n",
    "while True:\n",
    "    numero_ingresado = int(input(\"Introduce un numero\"));\n",
    "    if numero_ingresado == number:\n",
    "        print(\"El numero es correcto\");\n",
    "        break \n",
    "    else:\n",
    "        print(\"Numero Incorrecto\");"
   ]
  },
  {
   "cell_type": "code",
   "execution_count": null,
   "id": "021b775b",
   "metadata": {},
   "outputs": [
    {
     "name": "stdout",
     "output_type": "stream",
     "text": [
      "Contrasena incorrecta, vuelve a intentarlo\n",
      "La contrasena es correcta\n"
     ]
    }
   ],
   "source": [
    "# Challenge 🤺 - 20m\n",
    "# Escribir un programa que almacene una contraseña en una variable, y pregunte al usuario \n",
    "# por la contraseña hasta que introduzca la contraseña correcta.\n",
    "# Cuando el usuario ingrese la contrasena correcta, imprimir un mensaje secreto.\n",
    "\n",
    "contrasena = \"123\";\n",
    "\n",
    "while True:\n",
    "    contrasena_user = input(\"Ingrese una contrasena\");\n",
    "    if contrasena_user == contrasena:\n",
    "        print (\"La contrasena es correcta\");\n",
    "        break\n",
    "    else:\n",
    "        print(\"Contrasena incorrecta, vuelve a intentarlo\");\n",
    "    "
   ]
  },
  {
   "cell_type": "code",
   "execution_count": 5,
   "id": "b769a679",
   "metadata": {},
   "outputs": [
    {
     "name": "stdout",
     "output_type": "stream",
     "text": [
      "banana\n",
      "['pera', 'manzana', 'banana', 'kiwi']\n",
      "['pera', 'durazno', 'banana', 'kiwi']\n",
      "['durazno', 'banana', 'kiwi']\n",
      "['durazno', 'kiwi']\n",
      "2\n"
     ]
    }
   ],
   "source": [
    "# LISTAS: es una colección ordenada de datos. \n",
    "# Podés guardar varios valores (números, textos, etc.) \n",
    "# dentro de una sola variable.\n",
    "# Las construimos colocando los elementos entre corchetes [ ] y separados por comas.\n",
    "\n",
    "listas_frutas = ['pera', 'manzana', 'banana'];\n",
    "#diferentes tipos de datos\n",
    "lista_bool = [True, False, True];\n",
    "lista_numeros = [1, 2, 4 , 4]; # 0 , 1 , 2 , 3\n",
    "\n",
    "print(listas_frutas[2]); # llamamos al vector 3\n",
    "\n",
    "#Anhadir \n",
    "listas_frutas.append('kiwi') #.append() sirve para agregar un elemento al final de una lista.\n",
    "print(listas_frutas);\n",
    "\n",
    "#Modificar\n",
    "listas_frutas[1] = 'durazno' #modificamos el vector 2\n",
    "print(listas_frutas);\n",
    "\n",
    "#Eliminar un elemento especifico\n",
    "listas_frutas.remove('pera'); #remove(valor) = Borra un valor específico de la lista.\n",
    "print(listas_frutas);\n",
    "\n",
    "#Eliminar un elemento por indice\n",
    "listas_frutas.pop(1) # pop([posición]) = Saca un valor de una posición y te lo devuelve.\n",
    "print(listas_frutas);\n",
    "\n",
    "# Contar elementos de la lista\n",
    "print(len(listas_frutas)); # len(lista) = Devuelve cuántos elementos tiene la lista.\n",
    "\n"
   ]
  },
  {
   "cell_type": "code",
   "execution_count": null,
   "id": "3f04bced",
   "metadata": {},
   "outputs": [
    {
     "name": "stdout",
     "output_type": "stream",
     "text": [
      "['pan', 'Hielo', 'leche', 'ron', 'fernet']\n"
     ]
    }
   ],
   "source": [
    "# Challenge 🤺 - 10m\n",
    "# Crear una lista de 5 elementos. Luego, seguir los siguientes pasos.\n",
    "# Agregar un elemento al final de la lista.\n",
    "# Modificar el segundo elemento.\n",
    "# Eliminar el tercer elemento.\n",
    "\n",
    "lista_compras = [\"pan\", \"queso\", \"coca\", \"leche\", \"ron\"]\n",
    "lista_compras.append(\"fernet\");\n",
    "lista_compras[1] = \"Hielo\"\n",
    "lista_compras.pop(2); #saca \"coca\"\n",
    "print(lista_compras);"
   ]
  },
  {
   "cell_type": "code",
   "execution_count": 9,
   "id": "c2ea5940",
   "metadata": {},
   "outputs": [
    {
     "name": "stdout",
     "output_type": "stream",
     "text": [
      "dia: 1\n",
      "dia: 2\n",
      "dia: 3\n",
      "dia: 4\n",
      "dia: 5\n",
      "dia: 6\n",
      "dia: 7\n"
     ]
    }
   ],
   "source": [
    "# FOR se usa para recorrer cosas, como listas, y hacer algo con cada elemento.\n",
    "dias_de_la_semana = [1, 2, 3, 4, 5, 6, 7]\n",
    "\n",
    "for dia in dias_de_la_semana:\n",
    "    print(f'dia: {dia}');"
   ]
  },
  {
   "cell_type": "code",
   "execution_count": 10,
   "id": "68f28557",
   "metadata": {},
   "outputs": [
    {
     "name": "stdout",
     "output_type": "stream",
     "text": [
      "hola, Buen dia\n",
      "hola, Buen dia\n",
      "hola, Buen dia\n",
      "hola, Buen dia\n",
      "hola, Buen dia\n"
     ]
    }
   ],
   "source": [
    "for i in range(5):\n",
    "    print(\"hola, Buen dia\");"
   ]
  },
  {
   "cell_type": "code",
   "execution_count": 11,
   "id": "f7f7bc25",
   "metadata": {},
   "outputs": [
    {
     "name": "stdout",
     "output_type": "stream",
     "text": [
      "pan\n",
      "queso\n",
      "coca\n",
      "leche\n",
      "ron\n"
     ]
    }
   ],
   "source": [
    "listas_compras = [\"pan\", \"queso\", \"coca\", \"leche\", \"ron\"]\n",
    "\n",
    "for articulo in listas_compras:\n",
    "    print(articulo);"
   ]
  },
  {
   "cell_type": "code",
   "execution_count": 14,
   "id": "86607a7a",
   "metadata": {},
   "outputs": [
    {
     "name": "stdout",
     "output_type": "stream",
     "text": [
      "0\n",
      "2\n",
      "4\n",
      "6\n",
      "8\n",
      "10\n",
      "12\n",
      "14\n",
      "16\n",
      "18\n"
     ]
    }
   ],
   "source": [
    "# Challenge 🤺 - 20m\n",
    "# Escribir un programa que itere en un rango de 10 veces.\n",
    "#  Por cada iteracion multiplicar \n",
    "# el iterador por dos e imprimir el resultado.\n",
    "\n",
    "for i in range(10):\n",
    "    print(i *2);"
   ]
  },
  {
   "cell_type": "code",
   "execution_count": 15,
   "id": "c766d628",
   "metadata": {},
   "outputs": [
    {
     "name": "stdout",
     "output_type": "stream",
     "text": [
      "2\n",
      "4\n",
      "6\n",
      "8\n",
      "10\n",
      "12\n",
      "14\n",
      "16\n",
      "18\n",
      "20\n"
     ]
    }
   ],
   "source": [
    "for i in range(1, 11): #colocando solamente 10, la multiplicacion inicia en 0.\n",
    "    i_multiplicado = i * 2\n",
    "    print (i_multiplicado);"
   ]
  },
  {
   "cell_type": "code",
   "execution_count": 17,
   "id": "09d4d4f2",
   "metadata": {},
   "outputs": [
    {
     "name": "stdout",
     "output_type": "stream",
     "text": [
      "adidas\n",
      "chanel\n",
      "motorola\n"
     ]
    }
   ],
   "source": [
    "# Challenge 🤺 - 20m\n",
    "# Recorrer los elementos de una \n",
    "# lista de marcas e imprimir cada marca solamente si tiene 6 letras o más.\n",
    "\n",
    "#Crea una lista de marcas\n",
    "lista_marcas = ['nike', 'adidas', 'chanel', 'motorola']\n",
    "\n",
    "#Recorrer la lista de marcas:\n",
    "for marca in lista_marcas:\n",
    "    #Crear una condicional si la palabra tiene mas de 6 caracteres\n",
    "    if len(marca) >= 6:\n",
    "        #imprimi solamente los corectos\n",
    "        print(marca);\n",
    "\n",
    "\n",
    "# LEN una función que te dice cuántos elementos hay en una lista\n",
    "#  (o cadena de texto, tupla, etc.)."
   ]
  },
  {
   "cell_type": "code",
   "execution_count": 16,
   "id": "2bdc8db2",
   "metadata": {},
   "outputs": [
    {
     "name": "stdout",
     "output_type": "stream",
     "text": [
      "s\n",
      "a\n",
      "l\n",
      "u\n",
      "d\n",
      "o\n"
     ]
    }
   ],
   "source": [
    "for letra in 'saludo':\n",
    "    print(letra);"
   ]
  },
  {
   "cell_type": "code",
   "execution_count": null,
   "id": "533594e5",
   "metadata": {},
   "outputs": [
    {
     "name": "stdout",
     "output_type": "stream",
     "text": [
      "hola\n",
      "La letra o aparece 1 veces\n"
     ]
    }
   ],
   "source": [
    "# Challenge 🤺 - 15m\n",
    "# Solicitar al usuario que ingrese una frase.\n",
    "\n",
    "# Imprimir un mensaje cada vez que se encuentre una letra \"o\".\n",
    "\n",
    "frase = input('Coloque la frase');\n",
    "print(frase);\n",
    "contador = 0;\n",
    "\n",
    "for letras in frase:\n",
    "    if letras.lower() == 'o':\n",
    "        contador += 1\n",
    "\n",
    "print(f\"La letra o aparece {contador} veces\");\n",
    "\n",
    "# .lower() convierte todo un texto a minúsculas."
   ]
  }
 ],
 "metadata": {
  "kernelspec": {
   "display_name": "Python 3",
   "language": "python",
   "name": "python3"
  },
  "language_info": {
   "codemirror_mode": {
    "name": "ipython",
    "version": 3
   },
   "file_extension": ".py",
   "mimetype": "text/x-python",
   "name": "python",
   "nbconvert_exporter": "python",
   "pygments_lexer": "ipython3",
   "version": "3.12.6"
  }
 },
 "nbformat": 4,
 "nbformat_minor": 5
}
