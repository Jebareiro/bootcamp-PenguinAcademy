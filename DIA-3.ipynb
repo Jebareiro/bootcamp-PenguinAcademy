{
 "cells": [
  {
   "cell_type": "code",
   "execution_count": null,
   "id": "ea1329bb",
   "metadata": {},
   "outputs": [
    {
     "name": "stdout",
     "output_type": "stream",
     "text": [
      "Hola Mundo\n"
     ]
    }
   ],
   "source": [
    "def imprimir_saludo(): # ➜ def es una funcion \n",
    "    print('Hola Mundo')\n",
    "\n",
    "imprimir_saludo();"
   ]
  },
  {
   "cell_type": "code",
   "execution_count": null,
   "id": "6fc31b10",
   "metadata": {},
   "outputs": [
    {
     "name": "stdout",
     "output_type": "stream",
     "text": [
      "Hola\n"
     ]
    }
   ],
   "source": [
    "# Crear una función que imprima la variable palabra.\n",
    "def imprimir_palabra():\n",
    "\n",
    "    palabra = 'Hola' # ➜ esto es una variable \n",
    "    print (palabra)\n",
    "\n",
    "imprimir_palabra();"
   ]
  },
  {
   "cell_type": "code",
   "execution_count": 9,
   "id": "1a25f627",
   "metadata": {},
   "outputs": [
    {
     "name": "stdout",
     "output_type": "stream",
     "text": [
      "4\n"
     ]
    }
   ],
   "source": [
    "def sumar_numeros(numero1, numero2): # ➜ esto es un parametro\n",
    "    suma = numero1 + numero2\n",
    "    print(suma)\n",
    "\n",
    "sumar_numeros(1, 3); # ➜ esta sumando el numero1 que seria 1 + numero2 que seria 3"
   ]
  },
  {
   "cell_type": "code",
   "execution_count": 22,
   "id": "6c32f5d8",
   "metadata": {},
   "outputs": [
    {
     "name": "stdout",
     "output_type": "stream",
     "text": [
      "las letras son diferentes\n"
     ]
    }
   ],
   "source": [
    "# Challenge 2 🤺 - 20 min\n",
    "# Crear una función que reciba dos letras (parámetros) y que verifique si son iguales:\n",
    "# Si son iguales, imprimir \"Las letras son iguales\".\n",
    "# De lo contrario, imprimir \"Las letras son diferentes\".\n",
    "\n",
    "def letras(letra1, letra2):\n",
    "    if letra1 == letra2: \n",
    "        print('las letras son iguales')\n",
    "    else:\n",
    "        print('las letras son diferentes')\n",
    "\n",
    "letras('a', 'z')\n"
   ]
  },
  {
   "cell_type": "code",
   "execution_count": null,
   "id": "ba7c6697",
   "metadata": {},
   "outputs": [],
   "source": [
    "def sumatoria(numero1, numero2): # ➜ esto es un parametro\n",
    "    sumar = numero1 + numero2\n",
    "    return sumar # ➜ return sirve para devolver un resultado desde una función.\n",
    "\n",
    "sumatoria(1, 3); \n"
   ]
  },
  {
   "cell_type": "code",
   "execution_count": 27,
   "id": "f64fb3ad",
   "metadata": {},
   "outputs": [
    {
     "name": "stdout",
     "output_type": "stream",
     "text": [
      "5.2\n"
     ]
    }
   ],
   "source": [
    "suma1 = sumatoria(1.2, 3)\n",
    "total = suma1 + 1\n",
    "print(total);"
   ]
  },
  {
   "cell_type": "code",
   "execution_count": null,
   "id": "b89132c7",
   "metadata": {},
   "outputs": [],
   "source": [
    "# Challenge 3 🤺 - 20m\n",
    "# Crear una función que reciba dos parámetros (una palabra y un número), y que retorne True \n",
    "# si el número es igual a la cantidad de letras de la palabra. \n",
    "# En caso contrario, que retorne False.\n",
    "# Pista: cantidad de letras de una palabra en python\n",
    "\n",
    "def cantidad_letras(palabra, numero):\n",
    "    if len(palabra) == numero:\n",
    "        return True \n",
    "    else:\n",
    "        return False \n",
    "\n",
    "\n",
    "cantidad_letras(\"python\", 6);"
   ]
  },
  {
   "cell_type": "code",
   "execution_count": 4,
   "id": "8cbd6eec",
   "metadata": {},
   "outputs": [
    {
     "name": "stdout",
     "output_type": "stream",
     "text": [
      "hola\n",
      "['h', 'o', 'l', 'a']\n",
      "La cantidad de letras: 4\n"
     ]
    }
   ],
   "source": [
    "\n",
    "palabra_ingresada = input('Ingrese una palabra:')\n",
    "print(palabra_ingresada);\n",
    "\n",
    "lista = list(palabra_ingresada)\n",
    "print(lista);\n",
    "\n",
    "cantidad = len(lista);\n",
    "print(\"La cantidad de letras:\", cantidad);\n"
   ]
  },
  {
   "cell_type": "code",
   "execution_count": null,
   "id": "b3b6b839",
   "metadata": {},
   "outputs": [
    {
     "name": "stdout",
     "output_type": "stream",
     "text": [
      "[['h', 'o', 'l', 'a']]\n",
      "[['h', 'o', 'l', 'a'], ['c', 'i', 'e', 'l', 'o']]\n",
      "[['h', 'o', 'l', 'a'], ['c', 'i', 'e', 'l', 'o'], ['t', 'i', 'e', 'r', 'r', 'a']]\n"
     ]
    }
   ],
   "source": [
    "# Challenge 5 🤺 - 25m\n",
    "# Pedir al usuario que ingrese 1 palabra, luego convertir esa palabra\n",
    "# a una lista con sus caracteres con list(). \n",
    "# Agregar esa lista de caracteres a una lista llamada palabras_ingresadas. \n",
    "# Repetir el proceso 3 veces. Cada vez que se agregue una lista de caracteres, \n",
    "# imprimir la lista palabras_ingresadas.\n",
    "# Ejemplo del resultado esperado:\n",
    "    # [['c', 'i', 'e', 'l', 'o']]\n",
    "    # Al ingresar la primera palabra\n",
    "    # [['c', 'i', 'e', 'l', 'o'], ['c', 'a', 'l', 'o', 'r']]\n",
    "    # Al ingresar la segunda palabra\n",
    "    # [['c', 'i', 'e', 'l', 'o'], ['c', 'a', 'l', 'o', 'r'], ['n', 'u', 'b', 'e', 's']]\n",
    "    # Al ingresar la tercera palabra\n",
    "\n",
    "\n",
    "palabras_ingresadas = []\n",
    "\n",
    "for i in range(3):\n",
    "    palabra = input('Ingrese una palabra')\n",
    "    lista_caracteres = list(palabra) \n",
    "    palabras_ingresadas.append(lista_caracteres)\n",
    "    print(palabras_ingresadas)\n",
    "\n",
    "\n"
   ]
  },
  {
   "cell_type": "code",
   "execution_count": 5,
   "id": "61a3b97b",
   "metadata": {},
   "outputs": [
    {
     "name": "stdout",
     "output_type": "stream",
     "text": [
      "['h', 'o', 'l', 'i', 's']\n",
      "['h', 'e', 'l', 'l', 'o']\n",
      "['h', 'a', 'l', 'l', 'o']\n"
     ]
    }
   ],
   "source": [
    "#Challenge 6 🤺 - 25m\n",
    "# Dada la lista de ejemplo: \n",
    "# lista = [['h', 'o', 'l', 'i', 's'], ['h', 'e', 'l', 'l', 'o'], ['h', 'a', 'l', 'l', 'o']]\n",
    "# Crear una función que imprima una grilla (lista de listas), una línea por cada lista dentro de la lista principal.\n",
    "# Ejemplo del resultado esperado:\n",
    "# ['h', 'o', 'l', 'i', 's']\n",
    "# ['h', 'e', 'l', 'l', 'o']\n",
    "# ['h', 'a', 'l', 'l', 'o']\n",
    "\n",
    "def imprimir_saludo():\n",
    "    lista = [['h', 'o', 'l', 'i', 's'], ['h', 'e', 'l', 'l', 'o'], ['h', 'a', 'l', 'l', 'o']]\n",
    "    for hola in lista:\n",
    "        print(hola)\n",
    "\n",
    "imprimir_saludo()"
   ]
  },
  {
   "cell_type": "code",
   "execution_count": 5,
   "id": "06fa1fb0",
   "metadata": {},
   "outputs": [
    {
     "name": "stdout",
     "output_type": "stream",
     "text": [
      "['h', 'o', 'l', 'i', 's']\n",
      "['h', 'e', 'l', 'l', 'o']\n",
      "['h', 'a', 'l', 'l', 'o']\n"
     ]
    }
   ],
   "source": [
    "#ejercicio anterior con impresion como vector\n",
    "\n",
    "lista = [['h', 'o', 'l', 'i', 's'], ['h', 'e', 'l', 'l', 'o'], ['h', 'a', 'l', 'l', 'o']]\n",
    "def imprimir_lista (lista):\n",
    "    print(lista[0])\n",
    "    print(lista[1])\n",
    "    print(lista[2])\n",
    "imprimir_lista(lista)"
   ]
  },
  {
   "cell_type": "code",
   "execution_count": null,
   "id": "a8aac041",
   "metadata": {},
   "outputs": [
    {
     "name": "stdout",
     "output_type": "stream",
     "text": [
      "te quedan 3 intentos\n",
      "te quedan 2 intentos\n",
      "te quedan 1 intentos\n",
      "te quedaste sin intentos\n"
     ]
    }
   ],
   "source": [
    "#Simulacion de contador de INTENTOS\n",
    "\n",
    "intentos = 3\n",
    "while intentos > 0:\n",
    "    print(f'te quedan {intentos} intentos')\n",
    "    palabra = input('ingrese la palabra')\n",
    "    intentos = intentos - 1\n",
    "print('te quedaste sin intentos');"
   ]
  },
  {
   "cell_type": "code",
   "execution_count": null,
   "id": "ef26f54d",
   "metadata": {},
   "outputs": [
    {
     "name": "stdout",
     "output_type": "stream",
     "text": [
      "🎮 Bienvenido al juego de adivinar palabras.\n",
      "🔤 Tienes que adivinar una palabra de 5 letras.\n",
      "❤️ Tienes 3 intentos. ¡Suerte!\n",
      "\n",
      "[b] (a) r c [a]\n",
      "❗Te quedan 2 intento(s).\n",
      "\n",
      "[b] (a) r c [a]\n",
      "[b] (l) (a) n [a]\n",
      "❗Te quedan 1 intento(s).\n",
      "\n",
      "[b] (a) r c [a]\n",
      "[b] (l) (a) n [a]\n",
      "[b] (a) [l] (l) [a]\n",
      "💀 Te quedaste sin intentos. La palabra era: ✨ bolsa ✨ \n"
     ]
    }
   ],
   "source": [
    "# INICIAR juego\n",
    "# DEFINIR palabra_a_encontrar DEFINIR cantidad_de_letras \n",
    "# DEFINIR intentos CREAR grilla vacía (lista para mostrar el progreso del jugador)\n",
    "\n",
    "# MOSTRAR mensaje de bienvenida\n",
    "\n",
    "# MIENTRAS intentos > 0: MOSTRAR cantidad de intentos restantes PEDIR al usuario que ingrese una palabra RESTAR 1 intento\n",
    "\n",
    "# SI la palabra ingresada NO tiene la longitud correcta:\n",
    "# MOSTRAR mensaje de error\n",
    "# CONTINUAR al siguiente intento (sin procesar la palabra)\n",
    "\n",
    "# SINO:\n",
    "# LLAMAR a la función verificar_palabra_ingresada con la palabra correcta y la palabra ingresada\n",
    "# GUARDAR el resultado en una lista (línea_verificada)\n",
    "# AGREGAR línea_verificada a la grilla\n",
    "\n",
    "# MOSTRAR la grilla actualizada\n",
    "\n",
    "# SI la palabra ingresada ES IGUAL a la palabra correcta:\n",
    "# MOSTRAR mensaje de felicitaciones\n",
    "# TERMINAR el juego\n",
    "# SI el jugador no adivinó la palabra: MOSTRAR mensaje de fin del juego\n",
    "\n",
    "# DEFINIR PALABRA SECRETA\n",
    "palabra_secreta = 'bolsa';  # La palabra secreta a adivinar\n",
    "numero_letras = 5;  # Número de letras que tiene la palabra secreta\n",
    "intentos_restantes = 3;  # El número de intentos que el jugador tiene para adivinar la palabra\n",
    "\n",
    "# LISTA DONDE SE GUARDAN LOS INTENTOS\n",
    "historial_intentos = []  # Lista que almacenará los intentos del usuario\n",
    "\n",
    "# ABRIR FUNCION PARA VERIFICAR INGRESADA\n",
    "def verificar_intento(palabra_secreta, palabra_usuario):\n",
    "    resultado = []  # Lista vacía que almacenará los resultados de las comparaciones\n",
    "\n",
    "    for posicion in range(numero_letras):  # Recorre cada posición de la palabra\n",
    "        letra_usuario = palabra_usuario[posicion]  # Toma la letra del intento del usuario en esa posición\n",
    "        letra_correcta = palabra_secreta[posicion]  # Toma la letra correcta en esa misma posición\n",
    "\n",
    "        if letra_usuario == letra_correcta:\n",
    "            resultado.append('[' + letra_usuario + ']')  # Si la letra es correcta y está en la posición correcta\n",
    "        elif letra_usuario in palabra_secreta:\n",
    "            resultado.append('(' + letra_usuario + ')')  # Si la letra está en la palabra, pero en una posición incorrecta\n",
    "        else:\n",
    "            resultado.append(letra_usuario)  # Si la letra no está en la palabra\n",
    "\n",
    "    return resultado  # Devuelve el resultado de la comparación de letras\n",
    "\n",
    "# FUNCION PARA IMPRIMIR todo EL HISTORIAL DE INTENTOS\n",
    "def mostrar_historial(historial):\n",
    "    for intento in historial:  # Recorre el historial de intentos\n",
    "        print(intento[0], intento[1], intento[2], intento[3], intento[4])  # Imprime cada letra del intento (asumido que es de 5 letras)\n",
    "\n",
    "# MENSAJE DE INICIO\n",
    "print(\"🎮 Bienvenido al juego de adivinar palabras.\")\n",
    "print(\"🔤 Tienes que adivinar una palabra de 5 letras.\")\n",
    "print(\"❤️ Tienes 3 intentos. ¡Suerte!\\n\")\n",
    "\n",
    "# INICIO DEL JUEGO\n",
    "while intentos_restantes > 0:\n",
    "    intento_usuario = input(\"Ingresa una palabra de 5 letras: \").lower()  # Toma la entrada del usuario y la convierte a minúsculas\n",
    "\n",
    "    if len(intento_usuario) != numero_letras:  # Si la palabra no tiene 5 letras\n",
    "        print(\"⚠️ La palabra debe tener 5 letras. Intenta de nuevo.\\n\")\n",
    "        continue  # Si no tiene 5 letras, salta al siguiente ciclo del bucle (vuelve a pedir la palabra)\n",
    "\n",
    "    resultado_intento = verificar_intento(palabra_secreta, intento_usuario)  # Compara el intento del usuario con la palabra secreta\n",
    "    historial_intentos.append(resultado_intento)  # Agrega el resultado del intento al historial\n",
    "    mostrar_historial(historial_intentos)  # Muestra el historial de intentos hasta ahora\n",
    "\n",
    "    if intento_usuario == palabra_secreta:  # Si el intento es correcto\n",
    "        print(\"🎉 ¡Ganaste! Adivinaste la palabra.\")\n",
    "        break  # Termina el juego si el usuario adivinó correctamente\n",
    "\n",
    "    intentos_restantes -= 1  # Reduce el número de intentos restantes\n",
    "    if intentos_restantes > 0:  # Si todavía quedan intentos\n",
    "        print(f\"❗Te quedan {intentos_restantes} intento(s).\\n\")\n",
    "    else:  # Si ya no quedan intentos\n",
    "        print(f\"💀 Te quedaste sin intentos. La palabra era: ✨ {palabra_secreta} ✨ \")\n",
    "\n"
   ]
  }
 ],
 "metadata": {
  "kernelspec": {
   "display_name": "Python 3",
   "language": "python",
   "name": "python3"
  },
  "language_info": {
   "codemirror_mode": {
    "name": "ipython",
    "version": 3
   },
   "file_extension": ".py",
   "mimetype": "text/x-python",
   "name": "python",
   "nbconvert_exporter": "python",
   "pygments_lexer": "ipython3",
   "version": "3.12.6"
  }
 },
 "nbformat": 4,
 "nbformat_minor": 5
}
