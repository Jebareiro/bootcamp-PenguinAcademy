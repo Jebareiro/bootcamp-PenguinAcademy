{
 "cells": [
  {
   "cell_type": "code",
   "execution_count": 3,
   "id": "abfd1a1b",
   "metadata": {},
   "outputs": [
    {
     "name": "stdout",
     "output_type": "stream",
     "text": [
      "Tareas actuales: {'Matematica': 'pendiente'}\n",
      "Tareas actuales: {'Matematica': 'pendiente', 'Guarani': 'pendiente'}\n",
      "Tareas actuales: {'Matematica': 'pendiente', 'Guarani': 'pendiente', 'Castellano': 'pendiente'}\n",
      "Tarea eliminada.\n",
      "Estados posibles: pendiente, en progreso, completada\n",
      "Estado actualizado.\n",
      "\n",
      "Tareas registradas:\n",
      "- Matematica: en progreso\n",
      "- Guarani: pendiente\n",
      "Saliendo del programa.\n"
     ]
    }
   ],
   "source": [
    "# Challenge 1: Registro de Tareas con Diccionarios\n",
    "# Crea un programa que gestione las tareas de una persona. Debe usar un diccionario\n",
    "# para almacenar las tareas con la siguiente estructura:\n",
    "\n",
    "# ● tarea: nombre de la tarea.\n",
    "# ● estado: estado de la tarea (pendiente, en progreso, completada).\n",
    "\n",
    "    # El programa debe permitir al usuario:\n",
    "    # 1. Agregar una tarea nueva.\n",
    "    # 2. Modificar el estado de una tarea.\n",
    "    # 3. Eliminar una tarea.\n",
    "    # 4. Mostrar todas las tareas y su estado.\n",
    "\n",
    "\n",
    "tarea = {}\n",
    "while True:\n",
    "    eleccion = input(\"Que desea realizar? seleccione el numero correspondiente  - 1) Agregar una nueva tarea - 2) Modificar el estado de una tarea - 3) Eliminar una tarea - 4) Mostrar todas las tareas y su estado - u otro digito para salir\")\n",
    "\n",
    "     # 1. Agregar una tarea nueva\n",
    "    if eleccion == \"1\":\n",
    "        while True:\n",
    "            campo = input(\"Ingrese el nombre de la tarea: \")\n",
    "            tarea[campo] = \"pendiente\"  # por defecto, la nueva tarea es 'pendiente'\n",
    "            print(\"Tareas actuales:\", tarea)\n",
    "\n",
    "            continuar = input(\"¿Desea agregar otra tarea? (si/no): \").lower()\n",
    "            if continuar != \"si\":\n",
    "                break\n",
    "\n",
    "    # 2. Modificar el estado de una tarea\n",
    "    elif eleccion == \"2\":\n",
    "        if tarea:\n",
    "            campo = input(\"Ingrese el nombre de la tarea que desea modificar: \")\n",
    "            if campo in tarea:\n",
    "                print(\"Estados posibles: pendiente, en progreso, completada\")\n",
    "                nuevo_estado = input(\"Nuevo estado: \").lower()\n",
    "                if nuevo_estado in [\"pendiente\", \"en progreso\", \"completada\"]:\n",
    "                    tarea[campo] = nuevo_estado\n",
    "                    print(\"Estado actualizado.\")\n",
    "                else:\n",
    "                    print(\"Estado inválido.\")\n",
    "            else:\n",
    "                print(\"La tarea no existe.\")\n",
    "        else:\n",
    "            print(\"No hay tareas registradas.\")\n",
    "\n",
    "    # 3. Eliminar una tarea\n",
    "    elif eleccion == \"3\":\n",
    "        if tarea:\n",
    "            campo = input(\"Ingrese el nombre de la tarea que desea eliminar: \")\n",
    "            if campo in tarea:\n",
    "                del tarea[campo]\n",
    "                print(\"Tarea eliminada.\")\n",
    "            else:\n",
    "                print(\"La tarea no existe.\")\n",
    "        else:\n",
    "            print(\"No hay tareas para eliminar.\")\n",
    "\n",
    "    # 4. Mostrar todas las tareas y su estado\n",
    "    elif eleccion == \"4\":\n",
    "        if tarea:\n",
    "            print(\"\\nTareas registradas:\")\n",
    "            for nombre, estado in tarea.items():\n",
    "                print(f\"- {nombre}: {estado}\")\n",
    "        else:\n",
    "            print(\"No hay tareas registradas.\")\n",
    "\n",
    "    # Salir del programa\n",
    "    else:\n",
    "        print(\"Saliendo del programa.\")\n",
    "        break"
   ]
  },
  {
   "cell_type": "code",
   "execution_count": 6,
   "id": "d6698614",
   "metadata": {},
   "outputs": [
    {
     "name": "stdout",
     "output_type": "stream",
     "text": [
      "Adivina el número secreto\n",
      "El número es mayor, estás cerca...\n",
      "Te quedan 2 intento(s).\n",
      "El número es menor, estás cerca...\n",
      "Te quedan 1 intento(s).\n",
      "¡Felicidades! Adivinaste.\n"
     ]
    }
   ],
   "source": [
    "# Challenge 2: Adivina el Número\n",
    "\n",
    "# Crea un juego simple en el que el usuario tiene que adivinar un número secreto. El\n",
    "# usuario puede hacer 3 intentos. \n",
    "# Cada vez que falle, el programa debe decir si el número\n",
    "# secreto es mayor o menor al ingresado . \n",
    "# Si el usuario adivina, debe mostrar\n",
    "# \"¡Felicidades! Adivinaste\".\n",
    "\n",
    "numero_secreto = 10\n",
    "intentos = 3\n",
    "\n",
    "print(\"Adivina el número secreto\")\n",
    "\n",
    "while intentos > 0:\n",
    "    numero_usuario = int(input(\"¿Qué número es? \"))\n",
    "\n",
    "    if numero_usuario == numero_secreto:\n",
    "        print(\"¡Felicidades! Adivinaste.\")\n",
    "        break\n",
    "    elif numero_usuario > numero_secreto:\n",
    "        print(\"El número es menor, estás cerca...\")\n",
    "    else:\n",
    "        print(\"El número es mayor, estás cerca...\")\n",
    "\n",
    "    intentos -= 1\n",
    "    print(f\"Te quedan {intentos} intento(s).\")\n",
    "\n",
    "if intentos == 0:\n",
    "    print(\"Se acabaron los intentos. El número era\", numero_secreto)\n"
   ]
  },
  {
   "cell_type": "code",
   "execution_count": 7,
   "id": "1f558b83",
   "metadata": {},
   "outputs": [
    {
     "name": "stdout",
     "output_type": "stream",
     "text": [
      "¡Hola! Soy Firulais y tengo 5 años.\n",
      "¡Hola! Soy Michi y tengo 3 años.\n"
     ]
    }
   ],
   "source": [
    "# Challenge 3: La Clase Animal\n",
    "# Crea una clase llamada Animal que tenga los atributos:\n",
    "        # ● Nombre\n",
    "        # ● edad\n",
    "# La clase debe tener un método llamado presentarse() que imprima algo como:\n",
    "# \"¡Hola! Soy [nombre] y tengo [edad] años. Luego, crea instancias de un perro y\n",
    "# un gato y haz que ambos se presenten.\n",
    "\n",
    "class Animal:\n",
    "    def __init__(self, nombre, edad):\n",
    "        self.nombre = nombre\n",
    "        self.edad = edad\n",
    "\n",
    "    def presentarse(self):\n",
    "        print(f\"¡Hola! Soy {self.nombre} y tengo {self.edad} años.\")\n",
    "\n",
    "# Crear instancias\n",
    "perro = Animal(\"Firulais\", 5)\n",
    "gato = Animal(\"Michi\", 3)\n",
    "\n",
    "# Llamar al método\n",
    "perro.presentarse()\n",
    "gato.presentarse()"
   ]
  },
  {
   "cell_type": "code",
   "execution_count": 8,
   "id": "03cd58a6",
   "metadata": {},
   "outputs": [
    {
     "name": "stdout",
     "output_type": "stream",
     "text": [
      "¡Hola! Soy Chiruzo y tengo 4 años.\n",
      "Guau guau!\n",
      "¡Hola! Soy Michifú y tengo 2 años.\n",
      "Miau!\n"
     ]
    }
   ],
   "source": [
    "# ✅ Versión extendida del codigo anterior con herencia:\n",
    "\n",
    "class Animal:\n",
    "    def __init__(self, nombre, edad):\n",
    "        self.nombre = nombre\n",
    "        self.edad = edad\n",
    "\n",
    "    def presentarse(self):\n",
    "        print(f\"¡Hola! Soy {self.nombre} y tengo {self.edad} años.\")\n",
    "\n",
    "class Perro(Animal):\n",
    "    def hablar(self):\n",
    "        print(\"Guau guau!\")\n",
    "\n",
    "class Gato(Animal):\n",
    "    def hablar(self):\n",
    "        print(\"Miau!\")\n",
    "\n",
    "# Crear instancias\n",
    "perro = Perro(\"Chiruzo\", 4)\n",
    "gato = Gato(\"Michifú\", 2)\n",
    "\n",
    "# Presentarse\n",
    "perro.presentarse()\n",
    "perro.hablar()\n",
    "\n",
    "gato.presentarse()\n",
    "gato.hablar()\n"
   ]
  },
  {
   "cell_type": "code",
   "execution_count": 9,
   "id": "4ed91f77",
   "metadata": {},
   "outputs": [
    {
     "name": "stdout",
     "output_type": "stream",
     "text": [
      "¡Es hora de abrazar a Osito Cariñosito, el peluche de tamaño mediano!\n"
     ]
    }
   ],
   "source": [
    "# Challenge 4: Peluche\n",
    "# Crea una clase Peluche con los atributos:\n",
    "        # ● nombre\n",
    "        # ● tamaño\n",
    "# La clase debe tener un método abrazar() que imprima algo como: \"¡Es hora de\n",
    "# abrazar a [nombre], el peluche de tamaño [tamaño]!\"\n",
    "# Luego, crea un peluche y haz que sea abrazado.\n",
    "# Conceptos usados:\n",
    "        # ● Clases, Atributos, Métodos.\n",
    "\n",
    "class Peluche:\n",
    "    def __init__(self, nombre, tamaño):\n",
    "        self.nombre = nombre\n",
    "        self.tamaño = tamaño\n",
    "\n",
    "    def abrazar(self):\n",
    "        print(f\"¡Es hora de abrazar a {self.nombre}, el peluche de tamaño {self.tamaño}!\")\n",
    "\n",
    "# Crear instancia y usar método\n",
    "mi_peluche = Peluche(\"Osito Cariñosito\", \"mediano\")\n",
    "mi_peluche.abrazar()\n"
   ]
  },
  {
   "cell_type": "code",
   "execution_count": 10,
   "id": "b0b8608a",
   "metadata": {},
   "outputs": [
    {
     "name": "stdout",
     "output_type": "stream",
     "text": [
      "Números ingresados: [3, 2, 1]\n",
      "Resultado de la multiplicación: 6\n"
     ]
    }
   ],
   "source": [
    "# Challenge 5: Multiplicar una Lista de Números\n",
    "# Escribe una función llamada multiplicar_lista() que reciba una lista de números\n",
    "# como parámetro y devuelva el resultado de multiplicar todos los elementos de la lista.\n",
    "\n",
    "def multiplicar_lista(lista):\n",
    "    resultado = 1\n",
    "    for numero in lista:\n",
    "        resultado *= numero\n",
    "    return resultado\n",
    "\n",
    "# Pedimos 3 números al usuario\n",
    "numeros = []\n",
    "for i in range(3):\n",
    "    num = int(input(\"Ingresa un número para multiplicar: \"))\n",
    "    numeros.append(num)\n",
    "\n",
    "print(\"Números ingresados:\", numeros)\n",
    "print(\"Resultado de la multiplicación:\", multiplicar_lista(numeros))\n"
   ]
  },
  {
   "cell_type": "code",
   "execution_count": 11,
   "id": "f89006bc",
   "metadata": {},
   "outputs": [
    {
     "name": "stdout",
     "output_type": "stream",
     "text": [
      "La suma acumulada desde 1 hasta 4 es: 10\n"
     ]
    }
   ],
   "source": [
    "# Challenge 6: Acumulador de Números\n",
    "# Escribe una función llamada acumulador() que reciba un número n como parámetro \n",
    "# y devuelva la suma de todos los números desde 1 hasta n.\n",
    "\n",
    "def acumulador(n):\n",
    "    suma = 0 # Iniciamos una variable para guardar la suma total\n",
    "    for i in range(1, n + 1): # usamos un for desde 1 hasta n \n",
    "        suma += i \n",
    "    return suma\n",
    "\n",
    "numero = int(input(\"Ingresa un número: \"))\n",
    "\n",
    "# Mostramos el resultado llamando a la función\n",
    "print(\"La suma acumulada desde 1 hasta\", numero, \"es:\", acumulador(numero))"
   ]
  }
 ],
 "metadata": {
  "kernelspec": {
   "display_name": "Python 3",
   "language": "python",
   "name": "python3"
  },
  "language_info": {
   "codemirror_mode": {
    "name": "ipython",
    "version": 3
   },
   "file_extension": ".py",
   "mimetype": "text/x-python",
   "name": "python",
   "nbconvert_exporter": "python",
   "pygments_lexer": "ipython3",
   "version": "3.12.6"
  }
 },
 "nbformat": 4,
 "nbformat_minor": 5
}
