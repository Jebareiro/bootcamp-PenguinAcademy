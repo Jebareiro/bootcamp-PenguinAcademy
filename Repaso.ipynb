{
 "cells": [
  {
   "cell_type": "code",
   "execution_count": 1,
   "id": "9dc9a06a",
   "metadata": {},
   "outputs": [
    {
     "name": "stdout",
     "output_type": "stream",
     "text": [
      "Hola Mundo\n"
     ]
    }
   ],
   "source": [
    "print(\"Hola Mundo\");"
   ]
  },
  {
   "cell_type": "code",
   "execution_count": 5,
   "id": "2bbc0065",
   "metadata": {},
   "outputs": [
    {
     "name": "stdout",
     "output_type": "stream",
     "text": [
      "EL cliente quiere un auto de la marca Audi del modelo A4 que cuesta 1000 USD. \n",
      "EL cliente quiere un auto de la marca Kia del modelo Soluto que cuesta 1000 USD. \n"
     ]
    }
   ],
   "source": [
    "def compra_de_autos(precio, marca, modelo):\n",
    "    print(f\"EL cliente quiere un auto de la marca {marca} del modelo {modelo} que cuesta {precio} USD. \");\n",
    "\n",
    "compra_de_autos(1000, \"Audi\", \"A4\");\n",
    "\n",
    "compra_de_autos(1000, \"Kia\", \"Soluto\");"
   ]
  },
  {
   "cell_type": "code",
   "execution_count": null,
   "id": "ef94c03d",
   "metadata": {},
   "outputs": [
    {
     "name": "stdout",
     "output_type": "stream",
     "text": [
      "6\n"
     ]
    }
   ],
   "source": [
    "# Hacer una funcion que sume 2 numeros, nos retorne un resultado. \n",
    "# Luego multiplicar el resultado por dos\n",
    "\n",
    "def suma(num1, num2):\n",
    "    resultado_suma = num1 + num2\n",
    "    return resultado_suma\n",
    "    print(\"\")\n",
    "\n",
    "resultado_suma = suma(1,2)\n",
    "\n",
    "multiplicacion = resultado_suma * 2\n",
    "print(multiplicacion);"
   ]
  },
  {
   "cell_type": "code",
   "execution_count": null,
   "id": "abd14fa5",
   "metadata": {},
   "outputs": [
    {
     "name": "stdout",
     "output_type": "stream",
     "text": [
      "El numero 24 es mayor que 15\n"
     ]
    }
   ],
   "source": [
    "number1 = 10;\n",
    "number2 = 15;\n",
    "\n",
    "if number1 > number2:\n",
    "    print(f\"El numero {number1} es mayor que {number2}\")\n",
    "else:\n",
    "    print(f\"El numero {number2} es mayor que {number1}\")"
   ]
  },
  {
   "cell_type": "code",
   "execution_count": null,
   "id": "617ec3a7",
   "metadata": {},
   "outputs": [],
   "source": [
    "edad = 18\n",
    "\n",
    "if edad < 18:\n",
    "    print(\"No podes entrar al boliche\");\n",
    "elif edad < 21:\n",
    "    print(\"Podes entrar, pero no comprar bebidas\");\n",
    "else:\n",
    "    print(\"Entra nomas kp\");"
   ]
  },
  {
   "cell_type": "code",
   "execution_count": null,
   "id": "dbc7c146",
   "metadata": {},
   "outputs": [],
   "source": [
    "# Bucle condicional para validar contraseña\n",
    "\n",
    "password = \"123\"\n",
    "password_user = input(\"Escribí la contraseña: \")\n",
    "\n",
    "while password_user != password:\n",
    "    print(\"Contraseña incorrecta\")\n",
    "    password_user = input(\"Intentá de nuevo: \")\n",
    "\n",
    "print(\"Contraseña correcta\")"
   ]
  },
  {
   "cell_type": "code",
   "execution_count": null,
   "id": "04201d25",
   "metadata": {},
   "outputs": [
    {
     "name": "stdout",
     "output_type": "stream",
     "text": [
      "Luis\n",
      "Javier\n",
      "Thiago\n",
      "Laura\n",
      "Tania\n"
     ]
    }
   ],
   "source": [
    "participantes = [\"Luis\", \"Javier\", \"Thiago\", \"Laura\", \"Tania\"]\n",
    "\n",
    "for individuo in participantes:\n",
    "    print(individuo);"
   ]
  },
  {
   "cell_type": "code",
   "execution_count": 16,
   "id": "d989527b",
   "metadata": {},
   "outputs": [
    {
     "name": "stdout",
     "output_type": "stream",
     "text": [
      "0\n",
      "1\n",
      "2\n",
      "3\n",
      "4\n"
     ]
    }
   ],
   "source": [
    "for numero in range(5):\n",
    "    print(numero);"
   ]
  }
 ],
 "metadata": {
  "kernelspec": {
   "display_name": "Python 3",
   "language": "python",
   "name": "python3"
  },
  "language_info": {
   "codemirror_mode": {
    "name": "ipython",
    "version": 3
   },
   "file_extension": ".py",
   "mimetype": "text/x-python",
   "name": "python",
   "nbconvert_exporter": "python",
   "pygments_lexer": "ipython3",
   "version": "3.12.6"
  }
 },
 "nbformat": 4,
 "nbformat_minor": 5
}
