{
 "cells": [
  {
   "cell_type": "code",
   "execution_count": null,
   "id": "abfd1a1b",
   "metadata": {},
   "outputs": [],
   "source": [
    "# Challenge 1: Registro de Tareas con Diccionarios\n",
    "# Crea un programa que gestione las tareas de una persona. Debe usar un diccionario\n",
    "# para almacenar las tareas con la siguiente estructura:\n",
    "\n",
    "# ● tarea: nombre de la tarea.\n",
    "# ● estado: estado de la tarea (pendiente, en progreso, completada).\n",
    "\n",
    "    # El programa debe permitir al usuario:\n",
    "    # 1. Agregar una tarea nueva.\n",
    "    # 2. Modificar el estado de una tarea.\n",
    "    # 3. Eliminar una tarea.\n",
    "    # 4. Mostrar todas las tareas y su estado.\n"
   ]
  },
  {
   "cell_type": "code",
   "execution_count": 3,
   "id": "d6698614",
   "metadata": {},
   "outputs": [],
   "source": [
    "# Challenge 2: Adivina el Número\n",
    "\n",
    "# Crea un juego simple en el que el usuario tiene que adivinar un número secreto. El\n",
    "# usuario puede hacer 3 intentos. Cada vez que falle, el programa debe decir si el número\n",
    "# secreto es mayor o menor al ingresado . Si el usuario adivina, debe mostrar\n",
    "# \"¡Felicidades! Adivinaste\"."
   ]
  },
  {
   "cell_type": "code",
   "execution_count": 5,
   "id": "1f558b83",
   "metadata": {},
   "outputs": [],
   "source": [
    "# Challenge 3: La Clase Animal\n",
    "# Crea una clase llamada Animal que tenga los atributos:\n",
    "        # ● Nombre\n",
    "        # ● edad\n",
    "# La clase debe tener un método llamado presentarse() que imprima algo como:\n",
    "# \"¡Hola! Soy [nombre] y tengo [edad] años. Luego, crea instancias de un perro y\n",
    "# un gato y haz que ambos se presenten."
   ]
  },
  {
   "cell_type": "code",
   "execution_count": null,
   "id": "4ed91f77",
   "metadata": {},
   "outputs": [],
   "source": [
    "# Challenge 4: Peluche\n",
    "# Crea una clase Peluche con los atributos:\n",
    "        # ● nombre\n",
    "        # ● tamaño\n",
    "# La clase debe tener un método abrazar() que imprima algo como: \"¡Es hora de\n",
    "# abrazar a [nombre], el peluche de tamaño [tamaño]!\"\n",
    "# Luego, crea un peluche y haz que sea abrazado.\n",
    "# Conceptos usados:\n",
    "        # ● Clases, Atributos, Métodos.\n"
   ]
  },
  {
   "cell_type": "code",
   "execution_count": 14,
   "id": "b0b8608a",
   "metadata": {},
   "outputs": [
    {
     "ename": "SyntaxError",
     "evalue": "'return' outside function (3060718923.py, line 15)",
     "output_type": "error",
     "traceback": [
      "  \u001b[36mCell\u001b[39m\u001b[36m \u001b[39m\u001b[32mIn[14]\u001b[39m\u001b[32m, line 15\u001b[39m\n\u001b[31m    \u001b[39m\u001b[31mreturn resultado\u001b[39m\n    ^\n\u001b[31mSyntaxError\u001b[39m\u001b[31m:\u001b[39m 'return' outside function\n"
     ]
    }
   ],
   "source": [
    "# Challenge 5: Multiplicar una Lista de Números\n",
    "# Escribe una función llamada multiplicar_lista() que reciba una lista de números\n",
    "# como parámetro y devuelva el resultado de multiplicar todos los elementos de la lista.\n",
    "\n",
    "def multiplicar_lista():\n",
    "    resultado = 1\n",
    "    numeros = []\n",
    "\n",
    "for i in range(3):\n",
    "    numeros = int(input (\"Ingresa numeros para multiplicar\"))\n",
    "    numeros.append(numeros)\n",
    "    resultado *= numeros\n",
    "\n",
    "    print(\"Numeros Ingresados: \", numeros)\n",
    "    return resultado\n",
    "\n",
    "print(\"Resultado de la multiplicacion: \", multiplicar_lista())\n",
    "\n",
    "    "
   ]
  },
  {
   "cell_type": "code",
   "execution_count": null,
   "id": "f89006bc",
   "metadata": {},
   "outputs": [],
   "source": [
    "# Challenge 6: Acumulador de Números\n",
    "# Escribe una función llamada acumulador() que reciba un número n como parámetro \n",
    "# y devuelva la suma de todos los números desde 1 hasta n."
   ]
  }
 ],
 "metadata": {
  "kernelspec": {
   "display_name": "Python 3",
   "language": "python",
   "name": "python3"
  },
  "language_info": {
   "codemirror_mode": {
    "name": "ipython",
    "version": 3
   },
   "file_extension": ".py",
   "mimetype": "text/x-python",
   "name": "python",
   "nbconvert_exporter": "python",
   "pygments_lexer": "ipython3",
   "version": "3.12.6"
  }
 },
 "nbformat": 4,
 "nbformat_minor": 5
}
