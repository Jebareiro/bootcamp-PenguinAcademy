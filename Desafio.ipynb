{
 "cells": [
  {
   "cell_type": "code",
   "execution_count": null,
   "id": "24fcbb25",
   "metadata": {},
   "outputs": [
    {
     "name": "stdout",
     "output_type": "stream",
     "text": [
      "Bienvenido Estudiante, por favor ingresa tu nombre\n",
      "Ingresa tus calificaciones\n",
      "Felicidades 7, aprobaste con un promedio de: 7.0\n"
     ]
    }
   ],
   "source": [
    "# 1. Funciones con parámetros y argumentos\n",
    "# 🎯 Evaluar desempeño académico\n",
    "# Descripción:\n",
    "# Crea una función llamada evaluar_estudiante que reciba los siguientes parámetros:\n",
    "\n",
    "# nombre (Nombre del estudiante)\n",
    "# nota1, nota2, nota3 (Notas del estudiante)\n",
    "# La función debe:\n",
    "\n",
    "# Calcular el promedio de las notas.\n",
    "# Devolver un mensaje como:\n",
    "# \"Felicitaciones <nombre>, aprobaste con un promedio de <promedio>!\" si el promedio es mayor o igual a 6.\n",
    "# \"Lo siento <nombre>, reprobaste con un promedio de <promedio>.\" si es menor a 6.\n",
    "\n",
    "\n",
    "def evaluar_estudiante():\n",
    "    print(\"Bienvenido Estudiante, por favor ingresa tu nombre\");\n",
    "    nombre = input(\"Nombre: \");\n",
    "\n",
    "    print(\"Ingresa tus calificaciones\");\n",
    "    nota1 = int(input(\"Nota 1\"));\n",
    "    nota2 = int(input(\"Nota 2\"));\n",
    "    nota3 = int(input(\"Nota 3\"));\n",
    "\n",
    "    promedio = (nota1 + nota2 + nota3) / 3\n",
    "\n",
    "    if promedio >= 6:\n",
    "        print(f\"Felicidades {nombre}, aprobaste con un promedio de: {promedio}\");\n",
    "    else:\n",
    "        print(f\"Lo siento {nombre}, reprobaste con un promedio de: {promedio}\");\n",
    "\n",
    "evaluar_estudiante()"
   ]
  },
  {
   "cell_type": "code",
   "execution_count": 13,
   "id": "d7158017",
   "metadata": {},
   "outputs": [
    {
     "name": "stdout",
     "output_type": "stream",
     "text": [
      "Ingresa 3 nombres:\n",
      "El nombre mas largo es:  jessica\n"
     ]
    }
   ],
   "source": [
    "# 2. Funciones con RETURN\n",
    "# 1. Devolver el nombre más largo\n",
    "# Descripción:\n",
    "# Crea una función nombre_mas_largo que reciba una lista de nombres\n",
    "# y devuelva el nombre que tenga más letras.\n",
    "\n",
    "def nombre_mas_largo():\n",
    "    print(\"Ingresa 3 nombres:\")\n",
    "\n",
    "    lista_nombres = [] #Lista vacia donde vamos a guardar los nombres\n",
    "\n",
    "    for i in range(3): #se repite 3 veces para pedir 3 nombres\n",
    "        nombre = input(f\"Nombre {i+1}: \") #Se agrega los nombres a la lista\n",
    "        lista_nombres.append(nombre) #Se agrega ese nombre a la lista\n",
    "\n",
    "    mas_larga = lista_nombres[0]\n",
    "\n",
    "    for nombre in lista_nombres:\n",
    "        if len(nombre) > len(mas_larga): #compara su largo con el actual mas largo\n",
    "            mas_larga = nombre # si es mas largo, lo guarda como el nuevo mas largo\n",
    "\n",
    "    print(\"El nombre mas largo es: \", mas_larga)\n",
    "\n",
    "nombre_mas_largo()\n"
   ]
  },
  {
   "cell_type": "code",
   "execution_count": 19,
   "id": "55bcdb8c",
   "metadata": {},
   "outputs": [
    {
     "name": "stdout",
     "output_type": "stream",
     "text": [
      "Bievenido al menu del restaurante\n",
      "Estas son las opciones:\n",
      "1 - 🍔 Hamburguesa\n",
      "2 - 🍕 Pizza\n",
      "3 - 🥗 Ensalada\n",
      "Elegiste 🍔 Hamburguesa\n"
     ]
    }
   ],
   "source": [
    "# 🍔 Elegir menú de restaurante\n",
    "# Descripción:\n",
    "# Crea un programa que pida al usuario que ingrese un número para elegir una opción del menú. \n",
    "# Según el número que el usuario escriba, el programa debe:\n",
    "\n",
    "# Si elige 1, mostrar: \"Elegiste Hamburguesa\",\n",
    "# Si elige 2, mostrar: \"Elegiste Pizza\",\n",
    "# Si elige 3, mostrar: \"Elegiste Ensalada\",\n",
    "# Si escribe cualquier otro número, mostrar: \"Opción no válida\".\n",
    "\n",
    "def menu():\n",
    "    print(\"Bievenido al menu del restaurante\");\n",
    "    print(\"Estas son las opciones:\")\n",
    "    print(\"1 - 🍔 Hamburguesa\")\n",
    "    print(\"2 - 🍕 Pizza\")\n",
    "    print(\"3 - 🥗 Ensalada\")\n",
    "\n",
    "    pedido = int(input(\"Escribe el numero del la comida que deseas: \"))\n",
    "\n",
    "    if pedido == 1:\n",
    "        print(\"Elegiste 🍔 Hamburguesa\")\n",
    "    elif pedido == 2:\n",
    "        print(\"Elegiste 🍕 Pizza\")\n",
    "    elif pedido == 3:\n",
    "        print(\"Elegiste 🥗 Ensalada\")\n",
    "    else:\n",
    "        print(\"❌ Opción no válida\")\n",
    "\n",
    "menu()\n"
   ]
  },
  {
   "cell_type": "code",
   "execution_count": null,
   "id": "5eb8593c",
   "metadata": {},
   "outputs": [
    {
     "name": "stdout",
     "output_type": "stream",
     "text": [
      "Lista Original: [5, 7, 3, 9, 6]\n",
      "Lista Actualizada: [7, 3, 9, 6]\n"
     ]
    }
   ],
   "source": [
    "# 4. Listas\n",
    "# 🧳 Eliminar elemento de una lista\n",
    "# Descripción:\n",
    "# Crea una función llamada eliminar_elemento que reciba una lista de números \n",
    "# y un número específico para eliminarlo de la lista.\n",
    "\n",
    "def eliminar_elemento():\n",
    "\n",
    "    lista_numeros = []\n",
    "\n",
    "    for i in range(5):\n",
    "        numero = int(input(f\"Escribe 5 numeros aleatorios {i+1}\"))\n",
    "        lista_numeros.append(numero)\n",
    "\n",
    "    print(\"Lista Original:\", lista_numeros);\n",
    "\n",
    "    numero_eliminado = int(input(\"Escribe el elemento que quisieras eliminar\"))\n",
    "    \n",
    "    lista_numeros.remove(numero_eliminado)\n",
    "\n",
    "    print(\"Lista Actualizada:\", lista_numeros)\n",
    "\n",
    "eliminar_elemento()\n"
   ]
  },
  {
   "cell_type": "code",
   "execution_count": null,
   "id": "6dbd906f",
   "metadata": {},
   "outputs": [],
   "source": [
    "#Misma consigna del ejercicio anterior pero con eliminacion por posicion (indice)\n",
    "\n",
    "def eliminar_por_posicion():\n",
    "    lista_numeros = []\n",
    "\n",
    "    for i in range(5):\n",
    "        numero = int(input(f\"Escribe el número {i+1}: \"))\n",
    "        lista_numeros.append(numero)\n",
    "\n",
    "    print(\"Lista Original:\", lista_numeros)\n",
    "\n",
    "    posicion = int(input(\"¿Qué posición querés eliminar? (0 a 4): \"))\n",
    "\n",
    "    if 0 <= posicion < len(lista_numeros):  # solo si la posición existe\n",
    "        del lista_numeros[posicion]\n",
    "        print(\"Lista Actualizada:\", lista_numeros)\n",
    "    else:\n",
    "        print(\"❌ Posición inválida.\")\n",
    "\n",
    "eliminar_por_posicion()\n"
   ]
  },
  {
   "cell_type": "code",
   "execution_count": 4,
   "id": "bf4d616a",
   "metadata": {},
   "outputs": [
    {
     "name": "stdout",
     "output_type": "stream",
     "text": [
      "Ingresaste:  4\n",
      "Ingresaste:  3\n",
      "Ingresaste:  6\n",
      "Ingresaste:  2\n",
      "Ingresaste:  1\n",
      "Ingresaste:  8\n"
     ]
    }
   ],
   "source": [
    "# 5. Bucle While\n",
    "# 🔁 Imprimir números hasta N con while\n",
    "# Descripción:\n",
    "# Escribe un programa que pida al usuario un número\n",
    "#  y luego imprima los números del 1 hasta ese número (inclusive) utilizando un bucle while.\n",
    "\n",
    "def numbers():\n",
    "\n",
    "    total_numbers = int(input(\"Cuantos numeros queres ingresar?: \"))\n",
    "    i = 0 \n",
    "\n",
    "    while i < total_numbers:\n",
    "        user_numbers = int(input(f\"Escribi el numero {i+1}: \"))\n",
    "        print(\"Ingresaste: \", user_numbers)\n",
    "        i += 1\n",
    "\n",
    "\n",
    "numbers()\n",
    "    \n"
   ]
  }
 ],
 "metadata": {
  "kernelspec": {
   "display_name": "Python 3",
   "language": "python",
   "name": "python3"
  },
  "language_info": {
   "codemirror_mode": {
    "name": "ipython",
    "version": 3
   },
   "file_extension": ".py",
   "mimetype": "text/x-python",
   "name": "python",
   "nbconvert_exporter": "python",
   "pygments_lexer": "ipython3",
   "version": "3.12.6"
  }
 },
 "nbformat": 4,
 "nbformat_minor": 5
}
